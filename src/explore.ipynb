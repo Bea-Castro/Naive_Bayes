{
 "cells": [
  {
   "cell_type": "code",
   "execution_count": 1,
   "metadata": {},
   "outputs": [
    {
     "name": "stdout",
     "output_type": "stream",
     "text": [
      "Defaulting to user installation because normal site-packages is not writeable\n",
      "Requirement already satisfied: ipyleaflet>=0.14.0 in /home/vscode/.local/lib/python3.11/site-packages (from -r /workspaces/Naive_Bayes/requirements.txt (line 1)) (0.19.2)\n",
      "Requirement already satisfied: ipywidgets>=7.7.1 in /home/vscode/.local/lib/python3.11/site-packages (from -r /workspaces/Naive_Bayes/requirements.txt (line 2)) (8.1.5)\n",
      "Requirement already satisfied: matplotlib>=3.7.0 in /home/vscode/.local/lib/python3.11/site-packages (from -r /workspaces/Naive_Bayes/requirements.txt (line 3)) (3.10.1)\n",
      "Requirement already satisfied: numpy>=1.24.2 in /home/vscode/.local/lib/python3.11/site-packages (from -r /workspaces/Naive_Bayes/requirements.txt (line 4)) (2.2.4)\n",
      "Requirement already satisfied: opencv-python>=4.1.2 in /home/vscode/.local/lib/python3.11/site-packages (from -r /workspaces/Naive_Bayes/requirements.txt (line 5)) (4.11.0.86)\n",
      "Requirement already satisfied: pandas>=1.5.3 in /home/vscode/.local/lib/python3.11/site-packages (from -r /workspaces/Naive_Bayes/requirements.txt (line 6)) (2.2.3)\n",
      "Requirement already satisfied: psycopg2-binary>=2.9.3 in /home/vscode/.local/lib/python3.11/site-packages (from -r /workspaces/Naive_Bayes/requirements.txt (line 7)) (2.9.10)\n",
      "Requirement already satisfied: pymysql>=1.0.2 in /home/vscode/.local/lib/python3.11/site-packages (from -r /workspaces/Naive_Bayes/requirements.txt (line 8)) (1.1.1)\n",
      "Requirement already satisfied: python-dotenv>=0.20.0 in /home/vscode/.local/lib/python3.11/site-packages (from -r /workspaces/Naive_Bayes/requirements.txt (line 9)) (1.0.1)\n",
      "Requirement already satisfied: requests>=2.27.1 in /home/vscode/.local/lib/python3.11/site-packages (from -r /workspaces/Naive_Bayes/requirements.txt (line 10)) (2.32.3)\n",
      "Requirement already satisfied: scikit-learn in /home/vscode/.local/lib/python3.11/site-packages (from -r /workspaces/Naive_Bayes/requirements.txt (line 11)) (1.6.1)\n",
      "Requirement already satisfied: seaborn>=0.12.2 in /home/vscode/.local/lib/python3.11/site-packages (from -r /workspaces/Naive_Bayes/requirements.txt (line 12)) (0.13.2)\n",
      "Requirement already satisfied: sqlalchemy>=2.0.38 in /home/vscode/.local/lib/python3.11/site-packages (from -r /workspaces/Naive_Bayes/requirements.txt (line 13)) (2.0.39)\n",
      "Requirement already satisfied: sympy>=1.10.1 in /home/vscode/.local/lib/python3.11/site-packages (from -r /workspaces/Naive_Bayes/requirements.txt (line 14)) (1.13.3)\n",
      "Requirement already satisfied: xgboost in /home/vscode/.local/lib/python3.11/site-packages (from -r /workspaces/Naive_Bayes/requirements.txt (line 15)) (3.0.0)\n",
      "Requirement already satisfied: branca>=0.5.0 in /home/vscode/.local/lib/python3.11/site-packages (from ipyleaflet>=0.14.0->-r /workspaces/Naive_Bayes/requirements.txt (line 1)) (0.8.1)\n",
      "Requirement already satisfied: jupyter-leaflet<0.20,>=0.19 in /home/vscode/.local/lib/python3.11/site-packages (from ipyleaflet>=0.14.0->-r /workspaces/Naive_Bayes/requirements.txt (line 1)) (0.19.2)\n",
      "Requirement already satisfied: traittypes<3,>=0.2.1 in /home/vscode/.local/lib/python3.11/site-packages (from ipyleaflet>=0.14.0->-r /workspaces/Naive_Bayes/requirements.txt (line 1)) (0.2.1)\n",
      "Requirement already satisfied: xyzservices>=2021.8.1 in /home/vscode/.local/lib/python3.11/site-packages (from ipyleaflet>=0.14.0->-r /workspaces/Naive_Bayes/requirements.txt (line 1)) (2025.1.0)\n",
      "Requirement already satisfied: comm>=0.1.3 in /home/vscode/.local/lib/python3.11/site-packages (from ipywidgets>=7.7.1->-r /workspaces/Naive_Bayes/requirements.txt (line 2)) (0.2.2)\n",
      "Requirement already satisfied: ipython>=6.1.0 in /home/vscode/.local/lib/python3.11/site-packages (from ipywidgets>=7.7.1->-r /workspaces/Naive_Bayes/requirements.txt (line 2)) (9.0.2)\n",
      "Requirement already satisfied: traitlets>=4.3.1 in /home/vscode/.local/lib/python3.11/site-packages (from ipywidgets>=7.7.1->-r /workspaces/Naive_Bayes/requirements.txt (line 2)) (5.14.3)\n",
      "Requirement already satisfied: widgetsnbextension~=4.0.12 in /home/vscode/.local/lib/python3.11/site-packages (from ipywidgets>=7.7.1->-r /workspaces/Naive_Bayes/requirements.txt (line 2)) (4.0.13)\n",
      "Requirement already satisfied: jupyterlab-widgets~=3.0.12 in /home/vscode/.local/lib/python3.11/site-packages (from ipywidgets>=7.7.1->-r /workspaces/Naive_Bayes/requirements.txt (line 2)) (3.0.13)\n",
      "Requirement already satisfied: contourpy>=1.0.1 in /home/vscode/.local/lib/python3.11/site-packages (from matplotlib>=3.7.0->-r /workspaces/Naive_Bayes/requirements.txt (line 3)) (1.3.1)\n",
      "Requirement already satisfied: cycler>=0.10 in /home/vscode/.local/lib/python3.11/site-packages (from matplotlib>=3.7.0->-r /workspaces/Naive_Bayes/requirements.txt (line 3)) (0.12.1)\n",
      "Requirement already satisfied: fonttools>=4.22.0 in /home/vscode/.local/lib/python3.11/site-packages (from matplotlib>=3.7.0->-r /workspaces/Naive_Bayes/requirements.txt (line 3)) (4.56.0)\n",
      "Requirement already satisfied: kiwisolver>=1.3.1 in /home/vscode/.local/lib/python3.11/site-packages (from matplotlib>=3.7.0->-r /workspaces/Naive_Bayes/requirements.txt (line 3)) (1.4.8)\n",
      "Requirement already satisfied: packaging>=20.0 in /home/vscode/.local/lib/python3.11/site-packages (from matplotlib>=3.7.0->-r /workspaces/Naive_Bayes/requirements.txt (line 3)) (24.2)\n",
      "Requirement already satisfied: pillow>=8 in /home/vscode/.local/lib/python3.11/site-packages (from matplotlib>=3.7.0->-r /workspaces/Naive_Bayes/requirements.txt (line 3)) (11.1.0)\n",
      "Requirement already satisfied: pyparsing>=2.3.1 in /home/vscode/.local/lib/python3.11/site-packages (from matplotlib>=3.7.0->-r /workspaces/Naive_Bayes/requirements.txt (line 3)) (3.2.1)\n",
      "Requirement already satisfied: python-dateutil>=2.7 in /home/vscode/.local/lib/python3.11/site-packages (from matplotlib>=3.7.0->-r /workspaces/Naive_Bayes/requirements.txt (line 3)) (2.9.0.post0)\n",
      "Requirement already satisfied: pytz>=2020.1 in /home/vscode/.local/lib/python3.11/site-packages (from pandas>=1.5.3->-r /workspaces/Naive_Bayes/requirements.txt (line 6)) (2025.1)\n",
      "Requirement already satisfied: tzdata>=2022.7 in /home/vscode/.local/lib/python3.11/site-packages (from pandas>=1.5.3->-r /workspaces/Naive_Bayes/requirements.txt (line 6)) (2025.2)\n",
      "Requirement already satisfied: charset-normalizer<4,>=2 in /home/vscode/.local/lib/python3.11/site-packages (from requests>=2.27.1->-r /workspaces/Naive_Bayes/requirements.txt (line 10)) (3.4.1)\n",
      "Requirement already satisfied: idna<4,>=2.5 in /home/vscode/.local/lib/python3.11/site-packages (from requests>=2.27.1->-r /workspaces/Naive_Bayes/requirements.txt (line 10)) (3.10)\n",
      "Requirement already satisfied: urllib3<3,>=1.21.1 in /home/vscode/.local/lib/python3.11/site-packages (from requests>=2.27.1->-r /workspaces/Naive_Bayes/requirements.txt (line 10)) (2.3.0)\n",
      "Requirement already satisfied: certifi>=2017.4.17 in /home/vscode/.local/lib/python3.11/site-packages (from requests>=2.27.1->-r /workspaces/Naive_Bayes/requirements.txt (line 10)) (2025.1.31)\n",
      "Requirement already satisfied: scipy>=1.6.0 in /home/vscode/.local/lib/python3.11/site-packages (from scikit-learn->-r /workspaces/Naive_Bayes/requirements.txt (line 11)) (1.15.2)\n",
      "Requirement already satisfied: joblib>=1.2.0 in /home/vscode/.local/lib/python3.11/site-packages (from scikit-learn->-r /workspaces/Naive_Bayes/requirements.txt (line 11)) (1.4.2)\n",
      "Requirement already satisfied: threadpoolctl>=3.1.0 in /home/vscode/.local/lib/python3.11/site-packages (from scikit-learn->-r /workspaces/Naive_Bayes/requirements.txt (line 11)) (3.6.0)\n",
      "Requirement already satisfied: greenlet!=0.4.17 in /home/vscode/.local/lib/python3.11/site-packages (from sqlalchemy>=2.0.38->-r /workspaces/Naive_Bayes/requirements.txt (line 13)) (3.1.1)\n",
      "Requirement already satisfied: typing-extensions>=4.6.0 in /home/vscode/.local/lib/python3.11/site-packages (from sqlalchemy>=2.0.38->-r /workspaces/Naive_Bayes/requirements.txt (line 13)) (4.12.2)\n",
      "Requirement already satisfied: mpmath<1.4,>=1.1.0 in /home/vscode/.local/lib/python3.11/site-packages (from sympy>=1.10.1->-r /workspaces/Naive_Bayes/requirements.txt (line 14)) (1.3.0)\n",
      "Requirement already satisfied: nvidia-nccl-cu12 in /home/vscode/.local/lib/python3.11/site-packages (from xgboost->-r /workspaces/Naive_Bayes/requirements.txt (line 15)) (2.26.2)\n",
      "Requirement already satisfied: jinja2>=3 in /home/vscode/.local/lib/python3.11/site-packages (from branca>=0.5.0->ipyleaflet>=0.14.0->-r /workspaces/Naive_Bayes/requirements.txt (line 1)) (3.1.6)\n",
      "Requirement already satisfied: decorator in /home/vscode/.local/lib/python3.11/site-packages (from ipython>=6.1.0->ipywidgets>=7.7.1->-r /workspaces/Naive_Bayes/requirements.txt (line 2)) (5.2.1)\n",
      "Requirement already satisfied: ipython-pygments-lexers in /home/vscode/.local/lib/python3.11/site-packages (from ipython>=6.1.0->ipywidgets>=7.7.1->-r /workspaces/Naive_Bayes/requirements.txt (line 2)) (1.1.1)\n",
      "Requirement already satisfied: jedi>=0.16 in /home/vscode/.local/lib/python3.11/site-packages (from ipython>=6.1.0->ipywidgets>=7.7.1->-r /workspaces/Naive_Bayes/requirements.txt (line 2)) (0.19.2)\n",
      "Requirement already satisfied: matplotlib-inline in /home/vscode/.local/lib/python3.11/site-packages (from ipython>=6.1.0->ipywidgets>=7.7.1->-r /workspaces/Naive_Bayes/requirements.txt (line 2)) (0.1.7)\n",
      "Requirement already satisfied: pexpect>4.3 in /home/vscode/.local/lib/python3.11/site-packages (from ipython>=6.1.0->ipywidgets>=7.7.1->-r /workspaces/Naive_Bayes/requirements.txt (line 2)) (4.9.0)\n",
      "Requirement already satisfied: prompt_toolkit<3.1.0,>=3.0.41 in /home/vscode/.local/lib/python3.11/site-packages (from ipython>=6.1.0->ipywidgets>=7.7.1->-r /workspaces/Naive_Bayes/requirements.txt (line 2)) (3.0.50)\n",
      "Requirement already satisfied: pygments>=2.4.0 in /home/vscode/.local/lib/python3.11/site-packages (from ipython>=6.1.0->ipywidgets>=7.7.1->-r /workspaces/Naive_Bayes/requirements.txt (line 2)) (2.19.1)\n",
      "Requirement already satisfied: stack_data in /home/vscode/.local/lib/python3.11/site-packages (from ipython>=6.1.0->ipywidgets>=7.7.1->-r /workspaces/Naive_Bayes/requirements.txt (line 2)) (0.6.3)\n",
      "Requirement already satisfied: six>=1.5 in /home/vscode/.local/lib/python3.11/site-packages (from python-dateutil>=2.7->matplotlib>=3.7.0->-r /workspaces/Naive_Bayes/requirements.txt (line 3)) (1.17.0)\n",
      "Requirement already satisfied: parso<0.9.0,>=0.8.4 in /home/vscode/.local/lib/python3.11/site-packages (from jedi>=0.16->ipython>=6.1.0->ipywidgets>=7.7.1->-r /workspaces/Naive_Bayes/requirements.txt (line 2)) (0.8.4)\n",
      "Requirement already satisfied: MarkupSafe>=2.0 in /home/vscode/.local/lib/python3.11/site-packages (from jinja2>=3->branca>=0.5.0->ipyleaflet>=0.14.0->-r /workspaces/Naive_Bayes/requirements.txt (line 1)) (3.0.2)\n",
      "Requirement already satisfied: ptyprocess>=0.5 in /home/vscode/.local/lib/python3.11/site-packages (from pexpect>4.3->ipython>=6.1.0->ipywidgets>=7.7.1->-r /workspaces/Naive_Bayes/requirements.txt (line 2)) (0.7.0)\n",
      "Requirement already satisfied: wcwidth in /home/vscode/.local/lib/python3.11/site-packages (from prompt_toolkit<3.1.0,>=3.0.41->ipython>=6.1.0->ipywidgets>=7.7.1->-r /workspaces/Naive_Bayes/requirements.txt (line 2)) (0.2.13)\n",
      "Requirement already satisfied: executing>=1.2.0 in /home/vscode/.local/lib/python3.11/site-packages (from stack_data->ipython>=6.1.0->ipywidgets>=7.7.1->-r /workspaces/Naive_Bayes/requirements.txt (line 2)) (2.2.0)\n",
      "Requirement already satisfied: asttokens>=2.1.0 in /home/vscode/.local/lib/python3.11/site-packages (from stack_data->ipython>=6.1.0->ipywidgets>=7.7.1->-r /workspaces/Naive_Bayes/requirements.txt (line 2)) (3.0.0)\n",
      "Requirement already satisfied: pure-eval in /home/vscode/.local/lib/python3.11/site-packages (from stack_data->ipython>=6.1.0->ipywidgets>=7.7.1->-r /workspaces/Naive_Bayes/requirements.txt (line 2)) (0.2.3)\n",
      "\n",
      "\u001b[1m[\u001b[0m\u001b[34;49mnotice\u001b[0m\u001b[1;39;49m]\u001b[0m\u001b[39;49m A new release of pip is available: \u001b[0m\u001b[31;49m23.1.2\u001b[0m\u001b[39;49m -> \u001b[0m\u001b[32;49m25.0.1\u001b[0m\n",
      "\u001b[1m[\u001b[0m\u001b[34;49mnotice\u001b[0m\u001b[1;39;49m]\u001b[0m\u001b[39;49m To update, run: \u001b[0m\u001b[32;49mpip install --upgrade pip\u001b[0m\n"
     ]
    }
   ],
   "source": [
    "!pip install -r /workspaces/Naive_Bayes/requirements.txt"
   ]
  },
  {
   "cell_type": "code",
   "execution_count": 2,
   "metadata": {},
   "outputs": [
    {
     "name": "stdout",
     "output_type": "stream",
     "text": [
      "Primeras filas del dataset:\n"
     ]
    },
    {
     "data": {
      "text/html": [
       "<div>\n",
       "<style scoped>\n",
       "    .dataframe tbody tr th:only-of-type {\n",
       "        vertical-align: middle;\n",
       "    }\n",
       "\n",
       "    .dataframe tbody tr th {\n",
       "        vertical-align: top;\n",
       "    }\n",
       "\n",
       "    .dataframe thead th {\n",
       "        text-align: right;\n",
       "    }\n",
       "</style>\n",
       "<table border=\"1\" class=\"dataframe\">\n",
       "  <thead>\n",
       "    <tr style=\"text-align: right;\">\n",
       "      <th></th>\n",
       "      <th>package_name</th>\n",
       "      <th>review</th>\n",
       "      <th>polarity</th>\n",
       "    </tr>\n",
       "  </thead>\n",
       "  <tbody>\n",
       "    <tr>\n",
       "      <th>0</th>\n",
       "      <td>com.facebook.katana</td>\n",
       "      <td>privacy at least put some option appear offli...</td>\n",
       "      <td>0</td>\n",
       "    </tr>\n",
       "    <tr>\n",
       "      <th>1</th>\n",
       "      <td>com.facebook.katana</td>\n",
       "      <td>messenger issues ever since the last update, ...</td>\n",
       "      <td>0</td>\n",
       "    </tr>\n",
       "    <tr>\n",
       "      <th>2</th>\n",
       "      <td>com.facebook.katana</td>\n",
       "      <td>profile any time my wife or anybody has more ...</td>\n",
       "      <td>0</td>\n",
       "    </tr>\n",
       "    <tr>\n",
       "      <th>3</th>\n",
       "      <td>com.facebook.katana</td>\n",
       "      <td>the new features suck for those of us who don...</td>\n",
       "      <td>0</td>\n",
       "    </tr>\n",
       "    <tr>\n",
       "      <th>4</th>\n",
       "      <td>com.facebook.katana</td>\n",
       "      <td>forced reload on uploading pic on replying co...</td>\n",
       "      <td>0</td>\n",
       "    </tr>\n",
       "  </tbody>\n",
       "</table>\n",
       "</div>"
      ],
      "text/plain": [
       "          package_name                                             review  \\\n",
       "0  com.facebook.katana   privacy at least put some option appear offli...   \n",
       "1  com.facebook.katana   messenger issues ever since the last update, ...   \n",
       "2  com.facebook.katana   profile any time my wife or anybody has more ...   \n",
       "3  com.facebook.katana   the new features suck for those of us who don...   \n",
       "4  com.facebook.katana   forced reload on uploading pic on replying co...   \n",
       "\n",
       "   polarity  \n",
       "0         0  \n",
       "1         0  \n",
       "2         0  \n",
       "3         0  \n",
       "4         0  "
      ]
     },
     "metadata": {},
     "output_type": "display_data"
    }
   ],
   "source": [
    "# Carga del conjunto de datos\n",
    "import pandas as pd\n",
    "\n",
    "# dataset\n",
    "data = \"/workspaces/Naive_Bayes/data/raw/playstore_reviews.csv\"\n",
    "\n",
    "# Cargar el dataset\n",
    "df = pd.read_csv(data)\n",
    "\n",
    "# Mostrar las primeras filas\n",
    "print(\"Primeras filas del dataset:\")\n",
    "display(df.head())\n"
   ]
  },
  {
   "cell_type": "code",
   "execution_count": 3,
   "metadata": {},
   "outputs": [
    {
     "name": "stdout",
     "output_type": "stream",
     "text": [
      "\n",
      "Dimensiones del dataset: (891, 3)\n",
      "\n",
      "Información del dataset:\n",
      "<class 'pandas.core.frame.DataFrame'>\n",
      "RangeIndex: 891 entries, 0 to 890\n",
      "Data columns (total 3 columns):\n",
      " #   Column        Non-Null Count  Dtype \n",
      "---  ------        --------------  ----- \n",
      " 0   package_name  891 non-null    object\n",
      " 1   review        891 non-null    object\n",
      " 2   polarity      891 non-null    int64 \n",
      "dtypes: int64(1), object(2)\n",
      "memory usage: 21.0+ KB\n",
      "\n",
      "Valores nulos por columna:\n",
      "package_name    0\n",
      "review          0\n",
      "polarity        0\n",
      "dtype: int64\n"
     ]
    }
   ],
   "source": [
    "# Exploracíon\n",
    "# Dimensiones del dataset\n",
    "print(\"\\nDimensiones del dataset:\", df.shape)\n",
    "\n",
    "# Información general\n",
    "print(\"\\nInformación del dataset:\")\n",
    "df.info()\n",
    "\n",
    "# Valores nulos\n",
    "print(\"\\nValores nulos por columna:\")\n",
    "print(df.isnull().sum())\n"
   ]
  },
  {
   "cell_type": "code",
   "execution_count": 4,
   "metadata": {},
   "outputs": [
    {
     "name": "stdout",
     "output_type": "stream",
     "text": [
      "\n",
      "Dimensiones después de eliminar duplicados: (891, 3)\n",
      "\n",
      "Valores únicos en polarity: [0 1]\n"
     ]
    }
   ],
   "source": [
    "# Eliminación de duplicados y columnas innecesarias\n",
    "\n",
    "# Eliminación de duplicados\n",
    "df.drop_duplicates(inplace=True)\n",
    "print(\"\\nDimensiones después de eliminar duplicados:\", df.shape)\n",
    "\n",
    "# Eliminación de la columna package_name (no es útil)\n",
    "df.drop(columns=[\"package_name\"], inplace=True)\n",
    "\n",
    "# Valores únicos de la variable de salida\n",
    "print(\"\\nValores únicos en polarity:\", df[\"polarity\"].unique())\n"
   ]
  },
  {
   "cell_type": "code",
   "execution_count": 5,
   "metadata": {},
   "outputs": [
    {
     "name": "stdout",
     "output_type": "stream",
     "text": [
      "\n",
      "Primeras filas después de limpiar el texto:\n"
     ]
    },
    {
     "data": {
      "text/html": [
       "<div>\n",
       "<style scoped>\n",
       "    .dataframe tbody tr th:only-of-type {\n",
       "        vertical-align: middle;\n",
       "    }\n",
       "\n",
       "    .dataframe tbody tr th {\n",
       "        vertical-align: top;\n",
       "    }\n",
       "\n",
       "    .dataframe thead th {\n",
       "        text-align: right;\n",
       "    }\n",
       "</style>\n",
       "<table border=\"1\" class=\"dataframe\">\n",
       "  <thead>\n",
       "    <tr style=\"text-align: right;\">\n",
       "      <th></th>\n",
       "      <th>review</th>\n",
       "      <th>polarity</th>\n",
       "    </tr>\n",
       "  </thead>\n",
       "  <tbody>\n",
       "    <tr>\n",
       "      <th>0</th>\n",
       "      <td>privacy at least put some option appear offlin...</td>\n",
       "      <td>0</td>\n",
       "    </tr>\n",
       "    <tr>\n",
       "      <th>1</th>\n",
       "      <td>messenger issues ever since the last update, i...</td>\n",
       "      <td>0</td>\n",
       "    </tr>\n",
       "    <tr>\n",
       "      <th>2</th>\n",
       "      <td>profile any time my wife or anybody has more t...</td>\n",
       "      <td>0</td>\n",
       "    </tr>\n",
       "    <tr>\n",
       "      <th>3</th>\n",
       "      <td>the new features suck for those of us who don'...</td>\n",
       "      <td>0</td>\n",
       "    </tr>\n",
       "    <tr>\n",
       "      <th>4</th>\n",
       "      <td>forced reload on uploading pic on replying com...</td>\n",
       "      <td>0</td>\n",
       "    </tr>\n",
       "  </tbody>\n",
       "</table>\n",
       "</div>"
      ],
      "text/plain": [
       "                                              review  polarity\n",
       "0  privacy at least put some option appear offlin...         0\n",
       "1  messenger issues ever since the last update, i...         0\n",
       "2  profile any time my wife or anybody has more t...         0\n",
       "3  the new features suck for those of us who don'...         0\n",
       "4  forced reload on uploading pic on replying com...         0"
      ]
     },
     "metadata": {},
     "output_type": "display_data"
    }
   ],
   "source": [
    "# Procesamiento del texto\n",
    "\n",
    "# Convertimos el texto a minúsculas y eliminamos espacios en blanco\n",
    "df[\"review\"] = df[\"review\"].str.strip().str.lower()\n",
    "\n",
    "# Verificamos los cambios\n",
    "print(\"\\nPrimeras filas después de limpiar el texto:\")\n",
    "display(df.head())\n"
   ]
  },
  {
   "cell_type": "code",
   "execution_count": 6,
   "metadata": {},
   "outputs": [
    {
     "name": "stdout",
     "output_type": "stream",
     "text": [
      "\n",
      "Tamaño del conjunto de entrenamiento: 712\n",
      "Tamaño del conjunto de prueba: 179\n"
     ]
    }
   ],
   "source": [
    "# División en Train y Test\n",
    "from sklearn.model_selection import train_test_split\n",
    "\n",
    "# División en conjuntos de entrenamiento y prueba\n",
    "X_train, X_test, y_train, y_test = train_test_split(df[\"review\"], df[\"polarity\"], test_size=0.2, random_state=42)\n",
    "\n",
    "print(\"\\nTamaño del conjunto de entrenamiento:\", len(X_train))\n",
    "print(\"Tamaño del conjunto de prueba:\", len(X_test))\n"
   ]
  },
  {
   "cell_type": "code",
   "execution_count": 7,
   "metadata": {},
   "outputs": [
    {
     "name": "stdout",
     "output_type": "stream",
     "text": [
      "\n",
      "Dimensiones después de la vectorización:\n",
      "X_train: (712, 3310)\n",
      "X_test: (179, 3310)\n"
     ]
    }
   ],
   "source": [
    "# Vectorización del Texto\n",
    "from sklearn.feature_extraction.text import CountVectorizer\n",
    "\n",
    "# Transformación de texto en una matriz de recuento de palabras\n",
    "vec_model = CountVectorizer(stop_words=\"english\")\n",
    "\n",
    "# Aplicamos la transformación a los datos de entrenamiento\n",
    "X_train = vec_model.fit_transform(X_train).toarray()\n",
    "X_test = vec_model.transform(X_test).toarray()\n",
    "\n",
    "print(\"\\nDimensiones después de la vectorización:\")\n",
    "print(\"X_train:\", X_train.shape)\n",
    "print(\"X_test:\", X_test.shape)\n"
   ]
  },
  {
   "cell_type": "code",
   "execution_count": 8,
   "metadata": {},
   "outputs": [
    {
     "name": "stdout",
     "output_type": "stream",
     "text": [
      "\n",
      "Evaluando modelos Naive Bayes:\n",
      "GaussianNB Accuracy: 0.8045\n",
      "MultinomialNB Accuracy: 0.8156\n",
      "BernoulliNB Accuracy: 0.7709\n"
     ]
    }
   ],
   "source": [
    "# Entrenamiento de Naive Bayes\n",
    "from sklearn.naive_bayes import GaussianNB, MultinomialNB, BernoulliNB\n",
    "\n",
    "# Evaluamos los tres modelos de Naive Bayes\n",
    "models = {\n",
    "    \"GaussianNB\": GaussianNB(),\n",
    "    \"MultinomialNB\": MultinomialNB(),\n",
    "    \"BernoulliNB\": BernoulliNB()\n",
    "}\n",
    "\n",
    "print(\"\\nEvaluando modelos Naive Bayes:\")\n",
    "for name, model in models.items():\n",
    "    model.fit(X_train, y_train)\n",
    "    score = model.score(X_test, y_test)\n",
    "    print(f\"{name} Accuracy: {score:.4f}\")\n"
   ]
  },
  {
   "cell_type": "code",
   "execution_count": 9,
   "metadata": {},
   "outputs": [
    {
     "name": "stdout",
     "output_type": "stream",
     "text": [
      "\n",
      "Modelo seleccionado: MultinomialNB\n"
     ]
    }
   ],
   "source": [
    "# Selección del mejor modelo\n",
    "# Selección del mejor modelo basado en los resultados\n",
    "best_model = MultinomialNB()\n",
    "best_model.fit(X_train, y_train)\n",
    "\n",
    "print(\"\\nModelo seleccionado: MultinomialNB\")\n"
   ]
  },
  {
   "cell_type": "code",
   "execution_count": 10,
   "metadata": {},
   "outputs": [
    {
     "name": "stdout",
     "output_type": "stream",
     "text": [
      "\n",
      "Entrenando modelo Random Forest...\n",
      "Random Forest Accuracy: 0.7989\n"
     ]
    }
   ],
   "source": [
    "# Optimización con Random Forest\n",
    "from sklearn.ensemble import RandomForestClassifier\n",
    "\n",
    "print(\"\\nEntrenando modelo Random Forest...\")\n",
    "rf_model = RandomForestClassifier(n_estimators=100, random_state=42)\n",
    "rf_model.fit(X_train, y_train)\n",
    "rf_score = rf_model.score(X_test, y_test)\n",
    "\n",
    "print(f\"Random Forest Accuracy: {rf_score:.4f}\")\n"
   ]
  },
  {
   "cell_type": "code",
   "execution_count": 11,
   "metadata": {},
   "outputs": [
    {
     "name": "stdout",
     "output_type": "stream",
     "text": [
      "\n",
      "Modelo Naive Bayes y vectorizador guardados correctamente.\n"
     ]
    }
   ],
   "source": [
    "# Guardado del modelo\n",
    "import joblib\n",
    "\n",
    "# Guardamos el mejor modelo y el vectorizador\n",
    "joblib.dump(best_model, \"naive_bayes_model.pkl\")\n",
    "joblib.dump(vec_model, \"vectorizer.pkl\")\n",
    "\n",
    "print(\"\\nModelo Naive Bayes y vectorizador guardados correctamente.\")\n"
   ]
  },
  {
   "cell_type": "code",
   "execution_count": 12,
   "metadata": {},
   "outputs": [
    {
     "name": "stdout",
     "output_type": "stream",
     "text": [
      "\n",
      "Entrenando modelos adicionales...\n",
      "Logistic Regression Accuracy: 0.8324\n",
      "Decision Tree Accuracy: 0.7151\n",
      "\n",
      "Comparación de Modelos:\n",
      "Naive Bayes (MultinomialNB): 0.8156\n",
      "Random Forest: 0.7989\n",
      "Regresión Logística: 0.8324\n",
      "Árbol de Decisión: 0.7151\n",
      "\n",
      "El mejor modelo es: Naive Bayes\n"
     ]
    }
   ],
   "source": [
    "# Exploración de otros modelos\n",
    "from sklearn.linear_model import LogisticRegression\n",
    "from sklearn.tree import DecisionTreeClassifier\n",
    "\n",
    "print(\"\\nEntrenando modelos adicionales...\")\n",
    "\n",
    "# Regresión Logística\n",
    "log_reg = LogisticRegression(max_iter=1000)\n",
    "log_reg.fit(X_train, y_train)\n",
    "log_reg_score = log_reg.score(X_test, y_test)\n",
    "print(f\"Logistic Regression Accuracy: {log_reg_score:.4f}\")\n",
    "\n",
    "# Árboles de Decisión\n",
    "dt_model = DecisionTreeClassifier(random_state=42)\n",
    "dt_model.fit(X_train, y_train)\n",
    "dt_score = dt_model.score(X_test, y_test)\n",
    "print(f\"Decision Tree Accuracy: {dt_score:.4f}\")\n",
    "\n",
    "# Comparación de Modelos\n",
    "print(\"\\nComparación de Modelos:\")\n",
    "print(f\"Naive Bayes (MultinomialNB): {best_model.score(X_test, y_test):.4f}\")\n",
    "print(f\"Random Forest: {rf_score:.4f}\")\n",
    "print(f\"Regresión Logística: {log_reg_score:.4f}\")\n",
    "print(f\"Árbol de Decisión: {dt_score:.4f}\")\n",
    "\n",
    "# Selección del mejor modelo final\n",
    "best_model_name = \"Random Forest\" if rf_score > best_model.score(X_test, y_test) else \"Naive Bayes\"\n",
    "print(\"\\nEl mejor modelo es:\", best_model_name)\n"
   ]
  }
 ],
 "metadata": {
  "kernelspec": {
   "display_name": "Python 3",
   "language": "python",
   "name": "python3"
  },
  "language_info": {
   "codemirror_mode": {
    "name": "ipython",
    "version": 3
   },
   "file_extension": ".py",
   "mimetype": "text/x-python",
   "name": "python",
   "nbconvert_exporter": "python",
   "pygments_lexer": "ipython3",
   "version": "3.11.4"
  }
 },
 "nbformat": 4,
 "nbformat_minor": 2
}
